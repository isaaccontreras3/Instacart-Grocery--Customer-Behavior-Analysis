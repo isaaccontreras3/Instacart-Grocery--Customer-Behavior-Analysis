{
 "cells": [
  {
   "cell_type": "code",
   "execution_count": 5,
   "id": "331d1a36-9d3c-4a30-a7bb-c9cba4141cca",
   "metadata": {},
   "outputs": [],
   "source": [
    "#Importing libraries: pandas, NumPy, and os\n",
    "import pandas as pd\n",
    "import numpy as np\n",
    "import os"
   ]
  },
  {
   "cell_type": "markdown",
   "id": "108959b2-8e6e-4505-84f4-8c48b08588c6",
   "metadata": {},
   "source": [
    "• Importing 'orders_products_combined' dataframe from the pickle file"
   ]
  },
  {
   "cell_type": "code",
   "execution_count": 7,
   "id": "0d3fd214-477f-413d-a429-a8c54621cf67",
   "metadata": {},
   "outputs": [
    {
     "name": "stdout",
     "output_type": "stream",
     "text": [
      "   order_id  user_id  order_number  order_dow  order_hour_of_day  \\\n",
      "0   2539329        1             1          2                  8   \n",
      "1   2539329        1             1          2                  8   \n",
      "2   2539329        1             1          2                  8   \n",
      "3   2539329        1             1          2                  8   \n",
      "4   2539329        1             1          2                  8   \n",
      "\n",
      "   days_since_prior_order  product_id  add_to_cart_order  reordered _merge  \n",
      "0               11.114836         196                  1          0   both  \n",
      "1               11.114836       14084                  2          0   both  \n",
      "2               11.114836       12427                  3          0   both  \n",
      "3               11.114836       26088                  4          0   both  \n",
      "4               11.114836       26405                  5          0   both  \n",
      "(32434489, 10)\n"
     ]
    }
   ],
   "source": [
    "#File path for the pickle file\n",
    "input_path = r'C:\\Users\\isaac\\Documents\\CareerFoundry\\2. Data Inmersion\\4. Python Fundamentals for Data Analysts\\07-2024 Instacart Basket Analysis\\02 Data\\Prepared Data\\4.3_orders_products\\orders_products_combined.pkl'\n",
    "\n",
    "#Importing the pickle file\n",
    "orders_products_combined = pd.read_pickle(input_path)\n",
    "\n",
    "#Displaying '.head' and 'shape' functions to confirm successful import\n",
    "print(orders_products_combined.head())\n",
    "print(orders_products_combined.shape)"
   ]
  },
  {
   "cell_type": "markdown",
   "id": "356d5cd3-ad73-46ba-a0cd-e4c4147897b4",
   "metadata": {},
   "source": [
    "-----------------------------------------------------------------------------------------------------------------------------------------------------"
   ]
  },
  {
   "cell_type": "markdown",
   "id": "8c4555bc-df62-4063-ad3f-8218daaae758",
   "metadata": {},
   "source": [
    "• Importing 'products_checked' dataframe and transforming it to pickle format:"
   ]
  },
  {
   "cell_type": "code",
   "execution_count": 9,
   "id": "fa1c0a80-adc1-44a8-97bf-a16965b47121",
   "metadata": {},
   "outputs": [],
   "source": [
    "#Loading the CSV file into a DataFrame\n",
    "df_products = pd.read_csv(r'C:\\Users\\isaac\\Documents\\CareerFoundry\\2. Data Inmersion\\4. Python Fundamentals for Data Analysts\\07-2024 Instacart Basket Analysis\\02 Data\\Prepared Data\\4.3_orders_products\\products_checked.csv')\n",
    "\n",
    "#Saving the DataFrame as a pickle file (creating a copy)\n",
    "output_path = r'C:\\Users\\isaac\\Documents\\CareerFoundry\\2. Data Inmersion\\4. Python Fundamentals for Data Analysts\\07-2024 Instacart Basket Analysis\\02 Data\\Prepared Data\\4.3_orders_products\\products_checked_copy.pkl'\n",
    "df_products.to_pickle(output_path)\n",
    "\n",
    "#Importing 'products_checked_copy.pkl\n",
    "df_products = pd.read_pickle(output_path)"
   ]
  },
  {
   "cell_type": "code",
   "execution_count": 11,
   "id": "b51b7cf1-f5c7-4d9b-af14-819c1b637e4c",
   "metadata": {},
   "outputs": [
    {
     "data": {
      "text/html": [
       "<div>\n",
       "<style scoped>\n",
       "    .dataframe tbody tr th:only-of-type {\n",
       "        vertical-align: middle;\n",
       "    }\n",
       "\n",
       "    .dataframe tbody tr th {\n",
       "        vertical-align: top;\n",
       "    }\n",
       "\n",
       "    .dataframe thead th {\n",
       "        text-align: right;\n",
       "    }\n",
       "</style>\n",
       "<table border=\"1\" class=\"dataframe\">\n",
       "  <thead>\n",
       "    <tr style=\"text-align: right;\">\n",
       "      <th></th>\n",
       "      <th>product_id</th>\n",
       "      <th>product_name</th>\n",
       "      <th>aisle_id</th>\n",
       "      <th>department_id</th>\n",
       "      <th>prices</th>\n",
       "    </tr>\n",
       "  </thead>\n",
       "  <tbody>\n",
       "    <tr>\n",
       "      <th>0</th>\n",
       "      <td>1</td>\n",
       "      <td>Chocolate Sandwich Cookies</td>\n",
       "      <td>61</td>\n",
       "      <td>19</td>\n",
       "      <td>5.8</td>\n",
       "    </tr>\n",
       "    <tr>\n",
       "      <th>1</th>\n",
       "      <td>2</td>\n",
       "      <td>All-Seasons Salt</td>\n",
       "      <td>104</td>\n",
       "      <td>13</td>\n",
       "      <td>9.3</td>\n",
       "    </tr>\n",
       "    <tr>\n",
       "      <th>2</th>\n",
       "      <td>3</td>\n",
       "      <td>Robust Golden Unsweetened Oolong Tea</td>\n",
       "      <td>94</td>\n",
       "      <td>7</td>\n",
       "      <td>4.5</td>\n",
       "    </tr>\n",
       "    <tr>\n",
       "      <th>3</th>\n",
       "      <td>4</td>\n",
       "      <td>Smart Ones Classic Favorites Mini Rigatoni Wit...</td>\n",
       "      <td>38</td>\n",
       "      <td>1</td>\n",
       "      <td>10.5</td>\n",
       "    </tr>\n",
       "    <tr>\n",
       "      <th>4</th>\n",
       "      <td>5</td>\n",
       "      <td>Green Chile Anytime Sauce</td>\n",
       "      <td>5</td>\n",
       "      <td>13</td>\n",
       "      <td>4.3</td>\n",
       "    </tr>\n",
       "  </tbody>\n",
       "</table>\n",
       "</div>"
      ],
      "text/plain": [
       "   product_id                                       product_name  aisle_id  \\\n",
       "0           1                         Chocolate Sandwich Cookies        61   \n",
       "1           2                                   All-Seasons Salt       104   \n",
       "2           3               Robust Golden Unsweetened Oolong Tea        94   \n",
       "3           4  Smart Ones Classic Favorites Mini Rigatoni Wit...        38   \n",
       "4           5                          Green Chile Anytime Sauce         5   \n",
       "\n",
       "   department_id  prices  \n",
       "0             19     5.8  \n",
       "1             13     9.3  \n",
       "2              7     4.5  \n",
       "3              1    10.5  \n",
       "4             13     4.3  "
      ]
     },
     "execution_count": 11,
     "metadata": {},
     "output_type": "execute_result"
    }
   ],
   "source": [
    "df_products.head()"
   ]
  },
  {
   "cell_type": "markdown",
   "id": "32ee9300-09b4-4a04-9a11-f603f3c75d41",
   "metadata": {},
   "source": [
    "• An inner join is the best as it will only keep rows where 'product_id' variable (key) exists in both dataframes."
   ]
  },
  {
   "cell_type": "code",
   "execution_count": 13,
   "id": "e651f63c-c2d7-4a1a-947b-f27b0cf7d42b",
   "metadata": {},
   "outputs": [],
   "source": [
    "#Merge the DataFrames on 'product_id'\n",
    "ords_prods_merge = orders_products_combined.merge(df_products, on='product_id', how='inner')\n"
   ]
  },
  {
   "cell_type": "code",
   "execution_count": 15,
   "id": "2b3edc17-5fc0-4ed9-93c3-c7f48008a543",
   "metadata": {},
   "outputs": [
    {
     "data": {
      "text/plain": [
       "_merge\n",
       "both          32404859\n",
       "left_only            0\n",
       "right_only           0\n",
       "Name: count, dtype: int64"
      ]
     },
     "execution_count": 15,
     "metadata": {},
     "output_type": "execute_result"
    }
   ],
   "source": [
    "#Checking merge flag and shape\"\n",
    "\n",
    "ords_prods_merge.head()\n",
    "\n",
    "ords_prods_merge['_merge'].value_counts()"
   ]
  },
  {
   "cell_type": "code",
   "execution_count": 23,
   "id": "9a7e9ccf-aa82-4246-9860-fe3c7d2e7fae",
   "metadata": {},
   "outputs": [],
   "source": [
    "#Exporting final merge as pickle format:\n",
    "\n",
    "path = r'C:\\Users\\isaac\\Documents\\CareerFoundry\\2. Data Inmersion\\4. Python Fundamentals for Data Analysts\\07-2024 Instacart Basket Analysis\\02 Data\\Prepared Data\\4.3_orders_products\\ords_prods_merge.pkl'\n",
    "ords_prods_merge.to_pickle(path)"
   ]
  },
  {
   "cell_type": "code",
   "execution_count": null,
   "id": "927eb997-4e60-4f6d-8969-1eb49b008491",
   "metadata": {},
   "outputs": [],
   "source": []
  }
 ],
 "metadata": {
  "kernelspec": {
   "display_name": "Python 3 (ipykernel)",
   "language": "python",
   "name": "python3"
  },
  "language_info": {
   "codemirror_mode": {
    "name": "ipython",
    "version": 3
   },
   "file_extension": ".py",
   "mimetype": "text/x-python",
   "name": "python",
   "nbconvert_exporter": "python",
   "pygments_lexer": "ipython3",
   "version": "3.12.4"
  }
 },
 "nbformat": 4,
 "nbformat_minor": 5
}
