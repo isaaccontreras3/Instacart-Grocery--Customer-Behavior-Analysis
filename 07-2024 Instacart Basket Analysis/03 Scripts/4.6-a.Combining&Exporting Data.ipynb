{
 "cells": [
  {
   "cell_type": "code",
   "execution_count": 5,
   "id": "4f79e093-5127-499a-9843-d5a60ef89e00",
   "metadata": {},
   "outputs": [],
   "source": [
    "#Importing libraries: pandas, NumPy, and os\n",
    "import pandas as pd\n",
    "import numpy as np\n",
    "import os"
   ]
  },
  {
   "cell_type": "code",
   "execution_count": 7,
   "id": "fe36dc46-ae0b-411e-847b-fccd40e84643",
   "metadata": {},
   "outputs": [],
   "source": [
    "# File paths\n",
    "orders_path = r'C:\\Users\\isaac\\Documents\\CareerFoundry\\2. Data Inmersion\\4. Python Fundamentals for Data Analysts\\07-2024 Instacart Basket Analysis\\02 Data\\Prepared Data\\4.3_orders_products\\orders_checked.csv'\n",
    "prior_path = r'C:\\Users\\isaac\\Documents\\CareerFoundry\\2. Data Inmersion\\4. Python Fundamentals for Data Analysts\\07-2024 Instacart Basket Analysis\\02 Data\\Original Data\\4.3_orders_products\\_orders_products\\orders_products_prior.csv'\n",
    "\n",
    "# Importing data frames\n",
    "df_orders_checked = pd.read_csv(orders_path)\n",
    "df_orders_products_prior = pd.read_csv(prior_path)\n",
    "\n",
    "# Renaming the data frames\n",
    "df_ords = df_orders_checked\n",
    "df_ords_prior = df_orders_products_prior"
   ]
  },
  {
   "cell_type": "code",
   "execution_count": 10,
   "id": "d98cbfc9-2fc0-4c09-b2cc-749399330f2d",
   "metadata": {},
   "outputs": [
    {
     "name": "stdout",
     "output_type": "stream",
     "text": [
      "   order_id  user_id  order_number  order_dow  order_hour_of_day  \\\n",
      "0   2539329        1             1          2                  8   \n",
      "1   2398795        1             2          3                  7   \n",
      "2    473747        1             3          3                 12   \n",
      "3   2254736        1             4          4                  7   \n",
      "4    431534        1             5          4                 15   \n",
      "\n",
      "   days_since_prior_order  \n",
      "0               11.114836  \n",
      "1               15.000000  \n",
      "2               21.000000  \n",
      "3               29.000000  \n",
      "4               28.000000  \n"
     ]
    }
   ],
   "source": [
    "# Dropping the 'eval_set' column from df_ords\n",
    "df_ords = df_ords.drop(columns=['eval_set'])\n",
    "\n",
    "# Display the first few rows to confirm the column has been dropped\n",
    "print(df_ords.head())\n"
   ]
  },
  {
   "cell_type": "markdown",
   "id": "503f2447-3ad7-4faa-b93e-ac7a351f1dfd",
   "metadata": {},
   "source": [
    "-------------------------------------------------------------------------------------------------"
   ]
  },
  {
   "cell_type": "markdown",
   "id": "92ffaf12-e750-41c3-9ea1-28ea10a980b7",
   "metadata": {},
   "source": [
    "• Merging both data frames: 'df_ords' and 'df_ords_prior'"
   ]
  },
  {
   "cell_type": "code",
   "execution_count": 12,
   "id": "d0a01d0e-65b2-4913-b9be-13c17b178947",
   "metadata": {},
   "outputs": [],
   "source": [
    "#Merging them:\n",
    "\n",
    "df_merged_large = df_ords.merge(df_ords_prior, on = 'order_id', indicator = True)\n"
   ]
  },
  {
   "cell_type": "markdown",
   "id": "e9c2cc46-6b99-4b5c-a9f1-cccb04b1a231",
   "metadata": {},
   "source": [
    "#"
   ]
  },
  {
   "cell_type": "markdown",
   "id": "0cee94ad-6ed3-4d7d-a1b8-380c6291d8f6",
   "metadata": {},
   "source": [
    "-------------------------------------------------------------------------------------------------"
   ]
  },
  {
   "cell_type": "markdown",
   "id": "ee5d88ed-1ad9-48cb-9cc5-6ff722acda5f",
   "metadata": {},
   "source": [
    "• Combining 'customer.csv' data with the rest of prepared Instacart data:"
   ]
  },
  {
   "cell_type": "code",
   "execution_count": 3,
   "id": "16e99d7e-48ae-47b4-aeca-c667f0a3a502",
   "metadata": {},
   "outputs": [
    {
     "ename": "NameError",
     "evalue": "name 'pd' is not defined",
     "output_type": "error",
     "traceback": [
      "\u001b[1;31m---------------------------------------------------------------------------\u001b[0m",
      "\u001b[1;31mNameError\u001b[0m                                 Traceback (most recent call last)",
      "Cell \u001b[1;32mIn[3], line 3\u001b[0m\n\u001b[0;32m      1\u001b[0m \u001b[38;5;66;03m#Loading the prepared data\u001b[39;00m\n\u001b[0;32m      2\u001b[0m file_path \u001b[38;5;241m=\u001b[39m \u001b[38;5;124mr\u001b[39m\u001b[38;5;124m'\u001b[39m\u001b[38;5;124mC:\u001b[39m\u001b[38;5;124m\\\u001b[39m\u001b[38;5;124mUsers\u001b[39m\u001b[38;5;124m\\\u001b[39m\u001b[38;5;124misaac\u001b[39m\u001b[38;5;124m\\\u001b[39m\u001b[38;5;124mDocuments\u001b[39m\u001b[38;5;124m\\\u001b[39m\u001b[38;5;124mCareerFoundry\u001b[39m\u001b[38;5;124m\\\u001b[39m\u001b[38;5;124m2. Data Inmersion\u001b[39m\u001b[38;5;124m\\\u001b[39m\u001b[38;5;124m4. Python Fundamentals for Data Analysts\u001b[39m\u001b[38;5;124m\\\u001b[39m\u001b[38;5;124m07-2024 Instacart Basket Analysis\u001b[39m\u001b[38;5;124m\\\u001b[39m\u001b[38;5;124m02 Data\u001b[39m\u001b[38;5;124m\\\u001b[39m\u001b[38;5;124mPrepared Data\u001b[39m\u001b[38;5;124m\\\u001b[39m\u001b[38;5;124m4.3_orders_products\u001b[39m\u001b[38;5;124m\\\u001b[39m\u001b[38;5;124mords_prods_merge_4.8.pkl\u001b[39m\u001b[38;5;124m'\u001b[39m\n\u001b[1;32m----> 3\u001b[0m ords_prods_merge \u001b[38;5;241m=\u001b[39m pd\u001b[38;5;241m.\u001b[39mread_pickle(file_path)\n",
      "\u001b[1;31mNameError\u001b[0m: name 'pd' is not defined"
     ]
    }
   ],
   "source": [
    "#Loading the prepared data\n",
    "file_path = r'C:\\Users\\isaac\\Documents\\CareerFoundry\\2. Data Inmersion\\4. Python Fundamentals for Data Analysts\\07-2024 Instacart Basket Analysis\\02 Data\\Prepared Data\\4.3_orders_products\\ords_prods_merge_4.8.pkl'\n",
    "ords_prods_merge = pd.read_pickle(file_path)"
   ]
  },
  {
   "cell_type": "code",
   "execution_count": null,
   "id": "d3ac69c6-edd2-4807-bd76-e6794693e64d",
   "metadata": {},
   "outputs": [],
   "source": []
  }
 ],
 "metadata": {
  "kernelspec": {
   "display_name": "Python 3 (ipykernel)",
   "language": "python",
   "name": "python3"
  },
  "language_info": {
   "codemirror_mode": {
    "name": "ipython",
    "version": 3
   },
   "file_extension": ".py",
   "mimetype": "text/x-python",
   "name": "python",
   "nbconvert_exporter": "python",
   "pygments_lexer": "ipython3",
   "version": "3.12.4"
  }
 },
 "nbformat": 4,
 "nbformat_minor": 5
}
