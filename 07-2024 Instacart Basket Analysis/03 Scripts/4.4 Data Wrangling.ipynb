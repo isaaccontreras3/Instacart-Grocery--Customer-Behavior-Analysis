{
 "cells": [
  {
   "cell_type": "code",
   "execution_count": 3,
   "id": "e09a1256-53e6-4f64-8a13-11372fc6e4c3",
   "metadata": {},
   "outputs": [],
   "source": [
    "#Importing libraries: pandas, NumPy, and os\n",
    "import pandas as pd\n",
    "import numpy as np\n",
    "import os"
   ]
  },
  {
   "cell_type": "code",
   "execution_count": 21,
   "id": "d28e8d6b-7dbe-4347-8e0b-f93acc1bed32",
   "metadata": {},
   "outputs": [],
   "source": [
    "#Creating path\n",
    "path = r'C:\\Users\\isaac\\Documents\\CareerFoundry\\2. Data Inmersion\\4. Python Fundamentals for Data Analysts\\07-2024 Instacart Basket Analysis\\02 Data\\Prepared Data\\4.3_orders_products'\n"
   ]
  },
  {
   "cell_type": "markdown",
   "id": "70b9c07a-08a0-451d-a9f6-5dab498b949f",
   "metadata": {},
   "source": [
    "• Importing data frames:"
   ]
  },
  {
   "cell_type": "code",
   "execution_count": 23,
   "id": "c69b7ecf-ecca-40f7-9253-c48c03dea336",
   "metadata": {},
   "outputs": [],
   "source": [
    "#Importing data orders.csv using path_join function\n",
    "df_ords = pd.read_csv(os.path.join(path, 'orders.csv'), index_col = False)\n",
    "\n",
    "#Importing data products.csv using path_join function\n",
    "df_prods = pd.read_csv(os.path.join(path, 'products.csv'), index_col = False)       "
   ]
  },
  {
   "cell_type": "markdown",
   "id": "7534f22e-a49d-42a7-901d-e8c12b35d27e",
   "metadata": {},
   "source": [
    "--------------------------------------------------------------------------------------------------"
   ]
  },
  {
   "cell_type": "markdown",
   "id": "77039a72-55c6-4bfe-8fb2-3a5690e72076",
   "metadata": {},
   "source": [
    "• Wrangling Procedures:"
   ]
  },
  {
   "cell_type": "code",
   "execution_count": 39,
   "id": "cf24e2ac-57fd-4068-aa42-7a4165eb35cd",
   "metadata": {},
   "outputs": [
    {
     "data": {
      "text/html": [
       "<div>\n",
       "<style scoped>\n",
       "    .dataframe tbody tr th:only-of-type {\n",
       "        vertical-align: middle;\n",
       "    }\n",
       "\n",
       "    .dataframe tbody tr th {\n",
       "        vertical-align: top;\n",
       "    }\n",
       "\n",
       "    .dataframe thead th {\n",
       "        text-align: right;\n",
       "    }\n",
       "</style>\n",
       "<table border=\"1\" class=\"dataframe\">\n",
       "  <thead>\n",
       "    <tr style=\"text-align: right;\">\n",
       "      <th></th>\n",
       "      <th>order_id</th>\n",
       "      <th>user_id</th>\n",
       "      <th>eval_set</th>\n",
       "      <th>order_number</th>\n",
       "      <th>order_dow</th>\n",
       "      <th>order_hour_of_day</th>\n",
       "      <th>days_since_prior_order</th>\n",
       "    </tr>\n",
       "  </thead>\n",
       "  <tbody>\n",
       "    <tr>\n",
       "      <th>0</th>\n",
       "      <td>2539329</td>\n",
       "      <td>1</td>\n",
       "      <td>prior</td>\n",
       "      <td>1</td>\n",
       "      <td>2</td>\n",
       "      <td>8</td>\n",
       "      <td>NaN</td>\n",
       "    </tr>\n",
       "    <tr>\n",
       "      <th>1</th>\n",
       "      <td>2398795</td>\n",
       "      <td>1</td>\n",
       "      <td>prior</td>\n",
       "      <td>2</td>\n",
       "      <td>3</td>\n",
       "      <td>7</td>\n",
       "      <td>15.0</td>\n",
       "    </tr>\n",
       "    <tr>\n",
       "      <th>2</th>\n",
       "      <td>473747</td>\n",
       "      <td>1</td>\n",
       "      <td>prior</td>\n",
       "      <td>3</td>\n",
       "      <td>3</td>\n",
       "      <td>12</td>\n",
       "      <td>21.0</td>\n",
       "    </tr>\n",
       "    <tr>\n",
       "      <th>3</th>\n",
       "      <td>2254736</td>\n",
       "      <td>1</td>\n",
       "      <td>prior</td>\n",
       "      <td>4</td>\n",
       "      <td>4</td>\n",
       "      <td>7</td>\n",
       "      <td>29.0</td>\n",
       "    </tr>\n",
       "    <tr>\n",
       "      <th>4</th>\n",
       "      <td>431534</td>\n",
       "      <td>1</td>\n",
       "      <td>prior</td>\n",
       "      <td>5</td>\n",
       "      <td>4</td>\n",
       "      <td>15</td>\n",
       "      <td>28.0</td>\n",
       "    </tr>\n",
       "  </tbody>\n",
       "</table>\n",
       "</div>"
      ],
      "text/plain": [
       "   order_id  user_id eval_set  order_number  order_dow  order_hour_of_day  \\\n",
       "0   2539329        1    prior             1          2                  8   \n",
       "1   2398795        1    prior             2          3                  7   \n",
       "2    473747        1    prior             3          3                 12   \n",
       "3   2254736        1    prior             4          4                  7   \n",
       "4    431534        1    prior             5          4                 15   \n",
       "\n",
       "   days_since_prior_order  \n",
       "0                     NaN  \n",
       "1                    15.0  \n",
       "2                    21.0  \n",
       "3                    29.0  \n",
       "4                    28.0  "
      ]
     },
     "execution_count": 39,
     "metadata": {},
     "output_type": "execute_result"
    }
   ],
   "source": [
    "#looking at df_ords format and structure:\n",
    "df_ords.head()"
   ]
  },
  {
   "cell_type": "code",
   "execution_count": 41,
   "id": "d590580a-b0c4-47ce-87d1-ae270525a45c",
   "metadata": {},
   "outputs": [
    {
     "data": {
      "text/plain": [
       "order_id                    int64\n",
       "user_id                     int64\n",
       "eval_set                   object\n",
       "order_number                int64\n",
       "order_dow                   int64\n",
       "order_hour_of_day           int64\n",
       "days_since_prior_order    float64\n",
       "dtype: object"
      ]
     },
     "execution_count": 41,
     "metadata": {},
     "output_type": "execute_result"
    }
   ],
   "source": [
    "df_ords.dtypes"
   ]
  },
  {
   "cell_type": "code",
   "execution_count": 43,
   "id": "1406fa64-ee6f-458a-8a14-a02ad2ca6320",
   "metadata": {},
   "outputs": [],
   "source": [
    "# Converting 'order_id' to string format\n",
    "df_ords['order_id'] = df_ords['order_id'].astype(str)"
   ]
  },
  {
   "cell_type": "code",
   "execution_count": 45,
   "id": "ae02f11b-e7e3-42b1-9ee5-966479f8a587",
   "metadata": {},
   "outputs": [],
   "source": [
    "# Convert 'user_id' to string format\n",
    "df_ords['user_id'] = df_ords['user_id'].astype(str)"
   ]
  },
  {
   "cell_type": "markdown",
   "id": "1d387662-ee7e-4d4f-8748-5c340f5f916c",
   "metadata": {},
   "source": [
    "• Looking for a variable in your df_ords dataframe with an unintuitive name and change its name"
   ]
  },
  {
   "cell_type": "code",
   "execution_count": 50,
   "id": "005f7c7b-2c1d-4b28-8cf6-3efa8641ca1c",
   "metadata": {},
   "outputs": [],
   "source": [
    "# Renaming the 'order_dow' column to 'order_day_of_week' without overwriting the dataframe\n",
    "df_ords_renamed = df_ords.rename(columns={'order_dow': 'order_day_of_week'})\n"
   ]
  },
  {
   "cell_type": "markdown",
   "id": "5820956e-e632-46b4-86a1-824ac4408d7c",
   "metadata": {},
   "source": [
    "• Determining the busiest hour for placing orders:"
   ]
  },
  {
   "cell_type": "code",
   "execution_count": 53,
   "id": "2baea97b-af73-451b-a2bd-60b9fbd64296",
   "metadata": {},
   "outputs": [
    {
     "name": "stdout",
     "output_type": "stream",
     "text": [
      "The busiest hour for placing orders is 10:00 with 288418 orders.\n"
     ]
    }
   ],
   "source": [
    "# Calculating the frequency of orders for each hour of the day\n",
    "hourly_order_counts = df_ords['order_hour_of_day'].value_counts().sort_index()\n",
    "\n",
    "# Identify the busiest hour for placing orders\n",
    "busiest_hour = hourly_order_counts.idxmax()\n",
    "busiest_hour_count = hourly_order_counts.max()\n",
    "\n",
    "print(f\"The busiest hour for placing orders is {busiest_hour}:00 with {busiest_hour_count} orders.\")\n"
   ]
  },
  {
   "cell_type": "markdown",
   "id": "6edd09bc-98dc-49b4-9f9d-7f3b887191a6",
   "metadata": {},
   "source": [
    "• Determining the meaning behind a value of 4 in the \"department_id\""
   ]
  },
  {
   "cell_type": "code",
   "execution_count": 64,
   "id": "f030f98f-61f0-496c-9c22-d1108a5d1711",
   "metadata": {},
   "outputs": [
    {
     "data": {
      "text/html": [
       "<div>\n",
       "<style scoped>\n",
       "    .dataframe tbody tr th:only-of-type {\n",
       "        vertical-align: middle;\n",
       "    }\n",
       "\n",
       "    .dataframe tbody tr th {\n",
       "        vertical-align: top;\n",
       "    }\n",
       "\n",
       "    .dataframe thead th {\n",
       "        text-align: right;\n",
       "    }\n",
       "</style>\n",
       "<table border=\"1\" class=\"dataframe\">\n",
       "  <thead>\n",
       "    <tr style=\"text-align: right;\">\n",
       "      <th></th>\n",
       "      <th>product_id</th>\n",
       "      <th>product_name</th>\n",
       "      <th>aisle_id</th>\n",
       "      <th>department_id</th>\n",
       "      <th>prices</th>\n",
       "    </tr>\n",
       "  </thead>\n",
       "  <tbody>\n",
       "    <tr>\n",
       "      <th>0</th>\n",
       "      <td>1</td>\n",
       "      <td>Chocolate Sandwich Cookies</td>\n",
       "      <td>61</td>\n",
       "      <td>19</td>\n",
       "      <td>5.8</td>\n",
       "    </tr>\n",
       "    <tr>\n",
       "      <th>1</th>\n",
       "      <td>2</td>\n",
       "      <td>All-Seasons Salt</td>\n",
       "      <td>104</td>\n",
       "      <td>13</td>\n",
       "      <td>9.3</td>\n",
       "    </tr>\n",
       "    <tr>\n",
       "      <th>2</th>\n",
       "      <td>3</td>\n",
       "      <td>Robust Golden Unsweetened Oolong Tea</td>\n",
       "      <td>94</td>\n",
       "      <td>7</td>\n",
       "      <td>4.5</td>\n",
       "    </tr>\n",
       "    <tr>\n",
       "      <th>3</th>\n",
       "      <td>4</td>\n",
       "      <td>Smart Ones Classic Favorites Mini Rigatoni Wit...</td>\n",
       "      <td>38</td>\n",
       "      <td>1</td>\n",
       "      <td>10.5</td>\n",
       "    </tr>\n",
       "    <tr>\n",
       "      <th>4</th>\n",
       "      <td>5</td>\n",
       "      <td>Green Chile Anytime Sauce</td>\n",
       "      <td>5</td>\n",
       "      <td>13</td>\n",
       "      <td>4.3</td>\n",
       "    </tr>\n",
       "  </tbody>\n",
       "</table>\n",
       "</div>"
      ],
      "text/plain": [
       "   product_id                                       product_name  aisle_id  \\\n",
       "0           1                         Chocolate Sandwich Cookies        61   \n",
       "1           2                                   All-Seasons Salt       104   \n",
       "2           3               Robust Golden Unsweetened Oolong Tea        94   \n",
       "3           4  Smart Ones Classic Favorites Mini Rigatoni Wit...        38   \n",
       "4           5                          Green Chile Anytime Sauce         5   \n",
       "\n",
       "   department_id  prices  \n",
       "0             19     5.8  \n",
       "1             13     9.3  \n",
       "2              7     4.5  \n",
       "3              1    10.5  \n",
       "4             13     4.3  "
      ]
     },
     "execution_count": 64,
     "metadata": {},
     "output_type": "execute_result"
    }
   ],
   "source": [
    "df_prods.head()"
   ]
  },
  {
   "cell_type": "code",
   "execution_count": 67,
   "id": "2bd2641c-f40b-4f34-a9d7-ace0a4b53944",
   "metadata": {},
   "outputs": [
    {
     "name": "stdout",
     "output_type": "stream",
     "text": [
      "The department_id 4 corresponds to the 'produce' department.\n"
     ]
    }
   ],
   "source": [
    "# Data dictionary:\n",
    "df_dep = pd.DataFrame({\n",
    "    'department_id': [1, 2, 3, 4, 5, 6, 7, 8, 9, 10, 11, 12, 13, 14, 15, 16, 17, 18, 19, 20, 21],\n",
    "    'department': [\n",
    "        'frozen', 'other', 'bakery', 'produce', 'alcohol', 'international', 'beverages',\n",
    "        'pets', 'dry goods pasta', 'bulk', 'personal care', 'meat seafood', 'pantry',\n",
    "        'breakfast', 'canned goods', 'dairy eggs', 'household', 'babies', 'snacks', 'deli', 'missing'\n",
    "    ]\n",
    "})\n",
    "\n",
    "# Finding the meaning of department_id = 4\n",
    "department_name = df_dep.loc[df_dep['department_id'] == 4, 'department'].values[0]\n",
    "print(f\"The department_id 4 corresponds to the '{department_name}' department.\")\n"
   ]
  },
  {
   "cell_type": "markdown",
   "id": "4a1f1479-6830-4fea-9df7-af56bcdcbe13",
   "metadata": {},
   "source": [
    "• The sales team in your client’s organization wants to know more about breakfast item sales. Create a subset containing only the required information:"
   ]
  },
  {
   "cell_type": "code",
   "execution_count": 70,
   "id": "0b3e9a6a-a621-4535-92d3-a666a7699d3b",
   "metadata": {},
   "outputs": [
    {
     "name": "stdout",
     "output_type": "stream",
     "text": [
      "       product_id                                       product_name  \\\n",
      "27             28                                  Wheat Chex Cereal   \n",
      "33             34                                                NaN   \n",
      "67             68                            Pancake Mix, Buttermilk   \n",
      "89             90                                       Smorz Cereal   \n",
      "210           211   Gluten Free Organic Cereal Coconut Maple Vanilla   \n",
      "...           ...                                                ...   \n",
      "49330       49326                            Cereal Variety Fun Pack   \n",
      "49395       49391            Light and Fluffy Buttermilk Pancake Mix   \n",
      "49547       49543                          Chocolate Cheerios Cereal   \n",
      "49637       49633               Shake 'N Pour Buttermilk Pancake Mix   \n",
      "49667       49663  Ultra Protein Power Crunch Peanut Butter N' Ho...   \n",
      "\n",
      "       aisle_id  department_id  prices  \n",
      "27          121             14    10.1  \n",
      "33          121             14    12.2  \n",
      "67          130             14    13.7  \n",
      "89          121             14     3.9  \n",
      "210         130             14     3.6  \n",
      "...         ...            ...     ...  \n",
      "49330       121             14     9.1  \n",
      "49395       130             14     2.0  \n",
      "49547       121             14    10.8  \n",
      "49637       130             14    14.2  \n",
      "49667        57             14    10.2  \n",
      "\n",
      "[1116 rows x 5 columns]\n"
     ]
    }
   ],
   "source": [
    "# Filtering the df_prods dataframe to include only rows where department_id is 14 (breakfast)\n",
    "breakfast_items = df_prods[df_prods['department_id'] == 14]\n",
    "\n",
    "# Displaying the subset\n",
    "print(breakfast_items)\n"
   ]
  },
  {
   "cell_type": "markdown",
   "id": "2c94cfa7-7f20-448f-bb6f-525e6e334301",
   "metadata": {},
   "source": [
    "• Details about products that customers might use to throw dinner parties. Items from the following departments: alcohol, deli, beverages, and meat/seafood:"
   ]
  },
  {
   "cell_type": "code",
   "execution_count": null,
   "id": "c1af7711-0782-4517-9716-bebb88d5f481",
   "metadata": {},
   "outputs": [],
   "source": []
  },
  {
   "cell_type": "code",
   "execution_count": 73,
   "id": "619acb8b-6d24-4c61-851d-bcbff63b73d1",
   "metadata": {},
   "outputs": [
    {
     "name": "stdout",
     "output_type": "stream",
     "text": [
      "       product_id                                    product_name  aisle_id  \\\n",
      "2               3            Robust Golden Unsweetened Oolong Tea        94   \n",
      "6               7                  Pure Coconut Water With Orange        98   \n",
      "9              10  Sparkling Orange Juice & Prickly Pear Beverage       115   \n",
      "10             11                               Peach Mango Juice        31   \n",
      "16             17                               Rendered Duck Fat        35   \n",
      "...           ...                                             ...       ...   \n",
      "49676       49672                          Cafe Mocha K-Cup Packs        26   \n",
      "49679       49675             Cinnamon Dolce Keurig Brewed K Cups        26   \n",
      "49680       49676                          Ultra Red Energy Drink        64   \n",
      "49686       49682                              California Limeade        98   \n",
      "49688       49684       Vodka, Triple Distilled, Twist of Vanilla       124   \n",
      "\n",
      "       department_id  prices  \n",
      "2                  7     4.5  \n",
      "6                  7     4.4  \n",
      "9                  7     8.4  \n",
      "10                 7     2.8  \n",
      "16                12    17.1  \n",
      "...              ...     ...  \n",
      "49676              7     6.5  \n",
      "49679              7    14.0  \n",
      "49680              7    14.5  \n",
      "49686              7     4.3  \n",
      "49688              5     5.3  \n",
      "\n",
      "[7650 rows x 5 columns]\n"
     ]
    }
   ],
   "source": [
    "# List of department_ids for dinner party items\n",
    "dinner_party_departments = [5, 20, 7, 12]\n",
    "\n",
    "# Filter the df_prods dataframe to include only rows where department_id is in the dinner_party_departments list\n",
    "dinner_party_items = df_prods[df_prods['department_id'].isin(dinner_party_departments)]\n",
    "\n",
    "# Display the subset\n",
    "print(dinner_party_items)\n"
   ]
  },
  {
   "cell_type": "code",
   "execution_count": null,
   "id": "cf3ab375-cf33-4538-a45d-da26089e0f4a",
   "metadata": {},
   "outputs": [],
   "source": []
  },
  {
   "cell_type": "markdown",
   "id": "45020e07-11d1-431e-9226-8dbc3ae509eb",
   "metadata": {},
   "source": [
    "How many rows does the last dataframe you created have? \n",
    "7650 rows \n"
   ]
  },
  {
   "cell_type": "code",
   "execution_count": null,
   "id": "144e9d73-92ee-46b7-8089-6f1c78945675",
   "metadata": {},
   "outputs": [],
   "source": []
  },
  {
   "cell_type": "markdown",
   "id": "8e97cb80-7225-492d-b4be-0e78d6a821ff",
   "metadata": {},
   "source": [
    "• Extract all the information you can about user 'user_id' (1)"
   ]
  },
  {
   "cell_type": "code",
   "execution_count": 81,
   "id": "75a7bd54-054f-4533-9a8a-1bafe93193b7",
   "metadata": {},
   "outputs": [
    {
     "name": "stdout",
     "output_type": "stream",
     "text": [
      "   order_id user_id eval_set  order_number  order_dow  order_hour_of_day  \\\n",
      "0   2539329       1    prior             1          2                  8   \n",
      "1   2398795       1    prior             2          3                  7   \n",
      "2    473747       1    prior             3          3                 12   \n",
      "3   2254736       1    prior             4          4                  7   \n",
      "4    431534       1    prior             5          4                 15   \n",
      "5   3367565       1    prior             6          2                  7   \n",
      "6    550135       1    prior             7          1                  9   \n",
      "7   3108588       1    prior             8          1                 14   \n",
      "8   2295261       1    prior             9          1                 16   \n",
      "9   2550362       1    prior            10          4                  8   \n",
      "10  1187899       1    train            11          4                  8   \n",
      "\n",
      "    days_since_prior_order  \n",
      "0                      NaN  \n",
      "1                     15.0  \n",
      "2                     21.0  \n",
      "3                     29.0  \n",
      "4                     28.0  \n",
      "5                     19.0  \n",
      "6                     20.0  \n",
      "7                     14.0  \n",
      "8                      0.0  \n",
      "9                     30.0  \n",
      "10                    14.0  \n"
     ]
    }
   ],
   "source": [
    "# Filtering user_id 1 (now as a string)\n",
    "user_1_data = df_ords[df_ords['user_id'] == '1']\n",
    "print(user_1_data)\n"
   ]
  },
  {
   "cell_type": "code",
   "execution_count": null,
   "id": "694847a5-d30d-40ac-90f4-f9c9d1139d91",
   "metadata": {},
   "outputs": [],
   "source": []
  },
  {
   "cell_type": "markdown",
   "id": "e9ad30a1-fc0b-4a65-b6c1-d177b6b786e2",
   "metadata": {},
   "source": [
    "• Providing basic stats about 'user_1'"
   ]
  },
  {
   "cell_type": "code",
   "execution_count": 84,
   "id": "ea68e24d-071c-496c-bad2-fd568801cbd6",
   "metadata": {},
   "outputs": [
    {
     "name": "stdout",
     "output_type": "stream",
     "text": [
      "Total Orders by user_1: 11\n",
      "\n",
      "Order Frequency by Day of the Week (0=Sunday, 6=Saturday):\n",
      "order_dow\n",
      "1    3\n",
      "2    2\n",
      "3    2\n",
      "4    4\n",
      "Name: count, dtype: int64\n",
      "\n",
      "Order Frequency by Hour of the Day:\n",
      "order_hour_of_day\n",
      "7     3\n",
      "8     3\n",
      "9     1\n",
      "12    1\n",
      "14    1\n",
      "15    1\n",
      "16    1\n",
      "Name: count, dtype: int64\n",
      "\n",
      "Average Days Between Orders: 19.00 days\n",
      "\n",
      "Order Set Distribution:\n",
      "eval_set\n",
      "prior    10\n",
      "train     1\n",
      "Name: count, dtype: int64\n"
     ]
    }
   ],
   "source": [
    "# 1. Total Orders\n",
    "total_orders = user_1_data.shape[0]\n",
    "\n",
    "# 2. Order Frequency by Day of the Week\n",
    "orders_by_dow = user_1_data['order_dow'].value_counts().sort_index()\n",
    "\n",
    "# 3. Order Frequency by Hour of the Day\n",
    "orders_by_hour = user_1_data['order_hour_of_day'].value_counts().sort_index()\n",
    "\n",
    "# 4. Average Days Between Orders\n",
    "average_days_between_orders = user_1_data['days_since_prior_order'].mean()\n",
    "\n",
    "# 5. Order Set Distribution\n",
    "order_set_distribution = user_1_data['eval_set'].value_counts()\n",
    "\n",
    "# Displaying the results\n",
    "print(f\"Total Orders by user_1: {total_orders}\")\n",
    "print(\"\\nOrder Frequency by Day of the Week (0=Sunday, 6=Saturday):\")\n",
    "print(orders_by_dow)\n",
    "print(\"\\nOrder Frequency by Hour of the Day:\")\n",
    "print(orders_by_hour)\n",
    "print(f\"\\nAverage Days Between Orders: {average_days_between_orders:.2f} days\")\n",
    "print(\"\\nOrder Set Distribution:\")\n",
    "print(order_set_distribution)\n"
   ]
  },
  {
   "cell_type": "code",
   "execution_count": null,
   "id": "ec423d4b-7161-4878-9327-9c8b68ace2ed",
   "metadata": {},
   "outputs": [],
   "source": []
  },
  {
   "cell_type": "markdown",
   "id": "4b4b6d41-b8e9-4d4a-8a8f-36fdcae6f2fd",
   "metadata": {},
   "source": [
    "• Exporting df_ords dataframe as 'orders_wrangled.csv'\n"
   ]
  },
  {
   "cell_type": "code",
   "execution_count": 86,
   "id": "a01bb443-f6dd-47cc-8184-72d37f143a4d",
   "metadata": {},
   "outputs": [],
   "source": [
    "# Define the full file path\n",
    "path_1 = r'C:\\Users\\isaac\\Documents\\CareerFoundry\\2. Data Inmersion\\4. Python Fundamentals for Data Analysts\\07-2024 Instacart Basket Analysis\\02 Data\\Prepared Data\\4.3_orders_products\\orders_wrangled.csv'\n",
    "\n",
    "# Export the df_ords dataframe to the specified path\n",
    "df_ords.to_csv(path_1, index=False)"
   ]
  },
  {
   "cell_type": "markdown",
   "id": "580e316f-b8ed-491c-8581-c8208bec0f4b",
   "metadata": {},
   "source": [
    "• Exporting the df_dep_t_new dataframe as 'departments_wrangled.csv "
   ]
  },
  {
   "cell_type": "code",
   "execution_count": 91,
   "id": "7a4e60a3-8414-4491-aa43-ca792522489f",
   "metadata": {},
   "outputs": [],
   "source": [
    "# Renaming the 'df_dep' dataframe\n",
    "df_dep_t_new = df_dep\n",
    "\n",
    "# Defining new full file path for exporting the dataframe\n",
    "path_2 = r'C:\\Users\\isaac\\Documents\\CareerFoundry\\2. Data Inmersion\\4. Python Fundamentals for Data Analysts\\07-2024 Instacart Basket Analysis\\02 Data\\Prepared Data\\departments_wrangled.csv'\n",
    "\n",
    "# Exporting the df_dep_t_new dataframe to the specified path\n",
    "df_dep_t_new.to_csv(path_2, index=False)\n"
   ]
  },
  {
   "cell_type": "code",
   "execution_count": null,
   "id": "1ab9f511-eaca-478d-a4be-61d5648a65ed",
   "metadata": {},
   "outputs": [],
   "source": []
  }
 ],
 "metadata": {
  "kernelspec": {
   "display_name": "Python 3 (ipykernel)",
   "language": "python",
   "name": "python3"
  },
  "language_info": {
   "codemirror_mode": {
    "name": "ipython",
    "version": 3
   },
   "file_extension": ".py",
   "mimetype": "text/x-python",
   "name": "python",
   "nbconvert_exporter": "python",
   "pygments_lexer": "ipython3",
   "version": "3.12.4"
  }
 },
 "nbformat": 4,
 "nbformat_minor": 5
}
