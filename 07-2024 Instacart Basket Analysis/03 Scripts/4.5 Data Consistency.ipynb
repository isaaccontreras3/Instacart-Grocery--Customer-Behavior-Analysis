{
 "cells": [
  {
   "cell_type": "code",
   "execution_count": 12,
   "id": "bfd3f1ab-b7c9-4c28-bf5d-21e43f564ab8",
   "metadata": {},
   "outputs": [],
   "source": [
    "#Importing libraries: pandas, NumPy, and os\n",
    "import pandas as pd\n",
    "import numpy as np\n",
    "import os"
   ]
  },
  {
   "cell_type": "code",
   "execution_count": 14,
   "id": "4e9096ae-68ba-4e88-8d74-6a97f763347c",
   "metadata": {},
   "outputs": [],
   "source": [
    "#Creating path\n",
    "path = r'C:\\Users\\isaac\\Documents\\CareerFoundry\\2. Data Inmersion\\4. Python Fundamentals for Data Analysts\\07-2024 Instacart Basket Analysis\\02 Data\\Prepared Data\\4.3_orders_products'\n"
   ]
  },
  {
   "cell_type": "code",
   "execution_count": 16,
   "id": "e6f87988-0192-4bd9-9831-6108ef92d638",
   "metadata": {},
   "outputs": [],
   "source": [
    "#Importing data 'orders_wrangled.csv' using path_join function\n",
    "df_ords = pd.read_csv(os.path.join(path, 'orders_wrangled.csv'), index_col = False)\n",
    "\n",
    "#Importing data products.csv using path_join function\n",
    "df_prods = pd.read_csv(os.path.join(path, 'products.csv'), index_col = False)       "
   ]
  },
  {
   "cell_type": "markdown",
   "id": "ee028eca-4904-4442-b2c6-4ebd6b115fb9",
   "metadata": {},
   "source": [
    "------------------------------------------------------------------------------------------------------------------------------------------"
   ]
  },
  {
   "cell_type": "markdown",
   "id": "cc166aa5-ba77-4d02-a201-2eb73aa59964",
   "metadata": {},
   "source": [
    "• Data Consistency Checks:"
   ]
  },
  {
   "cell_type": "code",
   "execution_count": 12,
   "id": "50944f61-cf3e-463c-b5d3-3b23421228cc",
   "metadata": {},
   "outputs": [
    {
     "data": {
      "text/html": [
       "<div>\n",
       "<style scoped>\n",
       "    .dataframe tbody tr th:only-of-type {\n",
       "        vertical-align: middle;\n",
       "    }\n",
       "\n",
       "    .dataframe tbody tr th {\n",
       "        vertical-align: top;\n",
       "    }\n",
       "\n",
       "    .dataframe thead th {\n",
       "        text-align: right;\n",
       "    }\n",
       "</style>\n",
       "<table border=\"1\" class=\"dataframe\">\n",
       "  <thead>\n",
       "    <tr style=\"text-align: right;\">\n",
       "      <th></th>\n",
       "      <th>product_id</th>\n",
       "      <th>aisle_id</th>\n",
       "      <th>department_id</th>\n",
       "      <th>prices</th>\n",
       "    </tr>\n",
       "  </thead>\n",
       "  <tbody>\n",
       "    <tr>\n",
       "      <th>count</th>\n",
       "      <td>49693.000000</td>\n",
       "      <td>49693.000000</td>\n",
       "      <td>49693.000000</td>\n",
       "      <td>49693.000000</td>\n",
       "    </tr>\n",
       "    <tr>\n",
       "      <th>mean</th>\n",
       "      <td>24844.345139</td>\n",
       "      <td>67.770249</td>\n",
       "      <td>11.728433</td>\n",
       "      <td>9.994136</td>\n",
       "    </tr>\n",
       "    <tr>\n",
       "      <th>std</th>\n",
       "      <td>14343.717401</td>\n",
       "      <td>38.316774</td>\n",
       "      <td>5.850282</td>\n",
       "      <td>453.519686</td>\n",
       "    </tr>\n",
       "    <tr>\n",
       "      <th>min</th>\n",
       "      <td>1.000000</td>\n",
       "      <td>1.000000</td>\n",
       "      <td>1.000000</td>\n",
       "      <td>1.000000</td>\n",
       "    </tr>\n",
       "    <tr>\n",
       "      <th>25%</th>\n",
       "      <td>12423.000000</td>\n",
       "      <td>35.000000</td>\n",
       "      <td>7.000000</td>\n",
       "      <td>4.100000</td>\n",
       "    </tr>\n",
       "    <tr>\n",
       "      <th>50%</th>\n",
       "      <td>24845.000000</td>\n",
       "      <td>69.000000</td>\n",
       "      <td>13.000000</td>\n",
       "      <td>7.100000</td>\n",
       "    </tr>\n",
       "    <tr>\n",
       "      <th>75%</th>\n",
       "      <td>37265.000000</td>\n",
       "      <td>100.000000</td>\n",
       "      <td>17.000000</td>\n",
       "      <td>11.200000</td>\n",
       "    </tr>\n",
       "    <tr>\n",
       "      <th>max</th>\n",
       "      <td>49688.000000</td>\n",
       "      <td>134.000000</td>\n",
       "      <td>21.000000</td>\n",
       "      <td>99999.000000</td>\n",
       "    </tr>\n",
       "  </tbody>\n",
       "</table>\n",
       "</div>"
      ],
      "text/plain": [
       "         product_id      aisle_id  department_id        prices\n",
       "count  49693.000000  49693.000000   49693.000000  49693.000000\n",
       "mean   24844.345139     67.770249      11.728433      9.994136\n",
       "std    14343.717401     38.316774       5.850282    453.519686\n",
       "min        1.000000      1.000000       1.000000      1.000000\n",
       "25%    12423.000000     35.000000       7.000000      4.100000\n",
       "50%    24845.000000     69.000000      13.000000      7.100000\n",
       "75%    37265.000000    100.000000      17.000000     11.200000\n",
       "max    49688.000000    134.000000      21.000000  99999.000000"
      ]
     },
     "execution_count": 12,
     "metadata": {},
     "output_type": "execute_result"
    }
   ],
   "source": [
    "#Looking for descriptive statistics in 'df_prods' data frame:\n",
    "\n",
    "df_prods.describe()"
   ]
  },
  {
   "cell_type": "code",
   "execution_count": 19,
   "id": "7e42249f-4d23-4d4e-99a6-0a59dce73b63",
   "metadata": {},
   "outputs": [
    {
     "name": "stdout",
     "output_type": "stream",
     "text": [
      "product_id         int64\n",
      "product_name      object\n",
      "aisle_id           int64\n",
      "department_id      int64\n",
      "prices           float64\n",
      "dtype: object\n"
     ]
    }
   ],
   "source": [
    "#Checking for mixed data types on 'df_prods'\n",
    "\n",
    "print(df_prods.dtypes)\n"
   ]
  },
  {
   "cell_type": "code",
   "execution_count": 23,
   "id": "89cf258e-b874-491a-bbe4-2b2e73be80ff",
   "metadata": {},
   "outputs": [
    {
     "name": "stdout",
     "output_type": "stream",
     "text": [
      "product_id        0\n",
      "product_name     16\n",
      "aisle_id          0\n",
      "department_id     0\n",
      "prices            0\n",
      "dtype: int64\n"
     ]
    }
   ],
   "source": [
    "#Checking for missing values\n",
    "\n",
    "print(df_prods.isnull().sum())\n"
   ]
  },
  {
   "cell_type": "code",
   "execution_count": 36,
   "id": "c005d96b-06c9-4c68-8b61-f38bb76995e2",
   "metadata": {},
   "outputs": [
    {
     "data": {
      "text/plain": [
       "(49677, 5)"
      ]
     },
     "execution_count": 36,
     "metadata": {},
     "output_type": "execute_result"
    }
   ],
   "source": [
    "#Filtering out rows with missing in 'df_prods'\n",
    "\n",
    "df_prods_clean = df_prods.dropna(subset=['product_name'])\n",
    "\n",
    "#Checking rows number on new data frame 'df_prods_clean':\n",
    "df_prods_clean.shape\n"
   ]
  },
  {
   "cell_type": "code",
   "execution_count": 41,
   "id": "0cdef76b-1d17-4849-a87b-b828728da348",
   "metadata": {},
   "outputs": [],
   "source": [
    "#Removing any duplicate if any from 'df_prods_clean':\n",
    "\n",
    "df_prods_clean_no_dups = df_prods_clean.drop_duplicates()\n"
   ]
  },
  {
   "cell_type": "code",
   "execution_count": 45,
   "id": "943a5267-5fed-41ce-8f3d-fe7050f337fc",
   "metadata": {},
   "outputs": [],
   "source": [
    "#Exporting 'df_prods_clean_no_dups' as 'products_checked.csv'\n",
    "\n",
    "file_path = r'C:\\Users\\isaac\\Documents\\CareerFoundry\\2. Data Inmersion\\4. Python Fundamentals for Data Analysts\\07-2024 Instacart Basket Analysis\\02 Data\\Prepared Data\\4.3_orders_products\\products_checked.csv'\n",
    "\n",
    "products_checked = df_prods_clean_no_dups\n",
    "products_checked.to_csv(file_path, index=False)\n",
    "\n"
   ]
  },
  {
   "cell_type": "markdown",
   "id": "5815ca4e-110f-46a1-bb8a-970399c86e01",
   "metadata": {},
   "source": [
    "-----------------------------------------------------------------------------------------------------------------------------------------------------"
   ]
  },
  {
   "cell_type": "markdown",
   "id": "03f41a1a-1193-4916-9614-5b1d73b93d6d",
   "metadata": {},
   "source": [
    "• Data consistency checks on 'df_ords' data frame"
   ]
  },
  {
   "cell_type": "code",
   "execution_count": 20,
   "id": "d125d44e-1a62-4907-ae4f-ee2beb82cdeb",
   "metadata": {},
   "outputs": [
    {
     "data": {
      "text/html": [
       "<div>\n",
       "<style scoped>\n",
       "    .dataframe tbody tr th:only-of-type {\n",
       "        vertical-align: middle;\n",
       "    }\n",
       "\n",
       "    .dataframe tbody tr th {\n",
       "        vertical-align: top;\n",
       "    }\n",
       "\n",
       "    .dataframe thead th {\n",
       "        text-align: right;\n",
       "    }\n",
       "</style>\n",
       "<table border=\"1\" class=\"dataframe\">\n",
       "  <thead>\n",
       "    <tr style=\"text-align: right;\">\n",
       "      <th></th>\n",
       "      <th>order_id</th>\n",
       "      <th>user_id</th>\n",
       "      <th>order_number</th>\n",
       "      <th>order_dow</th>\n",
       "      <th>order_hour_of_day</th>\n",
       "      <th>days_since_prior_order</th>\n",
       "    </tr>\n",
       "  </thead>\n",
       "  <tbody>\n",
       "    <tr>\n",
       "      <th>count</th>\n",
       "      <td>3.421083e+06</td>\n",
       "      <td>3.421083e+06</td>\n",
       "      <td>3.421083e+06</td>\n",
       "      <td>3.421083e+06</td>\n",
       "      <td>3.421083e+06</td>\n",
       "      <td>3.214874e+06</td>\n",
       "    </tr>\n",
       "    <tr>\n",
       "      <th>mean</th>\n",
       "      <td>1.710542e+06</td>\n",
       "      <td>1.029782e+05</td>\n",
       "      <td>1.715486e+01</td>\n",
       "      <td>2.776219e+00</td>\n",
       "      <td>1.345202e+01</td>\n",
       "      <td>1.111484e+01</td>\n",
       "    </tr>\n",
       "    <tr>\n",
       "      <th>std</th>\n",
       "      <td>9.875817e+05</td>\n",
       "      <td>5.953372e+04</td>\n",
       "      <td>1.773316e+01</td>\n",
       "      <td>2.046829e+00</td>\n",
       "      <td>4.226088e+00</td>\n",
       "      <td>9.206737e+00</td>\n",
       "    </tr>\n",
       "    <tr>\n",
       "      <th>min</th>\n",
       "      <td>1.000000e+00</td>\n",
       "      <td>1.000000e+00</td>\n",
       "      <td>1.000000e+00</td>\n",
       "      <td>0.000000e+00</td>\n",
       "      <td>0.000000e+00</td>\n",
       "      <td>0.000000e+00</td>\n",
       "    </tr>\n",
       "    <tr>\n",
       "      <th>25%</th>\n",
       "      <td>8.552715e+05</td>\n",
       "      <td>5.139400e+04</td>\n",
       "      <td>5.000000e+00</td>\n",
       "      <td>1.000000e+00</td>\n",
       "      <td>1.000000e+01</td>\n",
       "      <td>4.000000e+00</td>\n",
       "    </tr>\n",
       "    <tr>\n",
       "      <th>50%</th>\n",
       "      <td>1.710542e+06</td>\n",
       "      <td>1.026890e+05</td>\n",
       "      <td>1.100000e+01</td>\n",
       "      <td>3.000000e+00</td>\n",
       "      <td>1.300000e+01</td>\n",
       "      <td>7.000000e+00</td>\n",
       "    </tr>\n",
       "    <tr>\n",
       "      <th>75%</th>\n",
       "      <td>2.565812e+06</td>\n",
       "      <td>1.543850e+05</td>\n",
       "      <td>2.300000e+01</td>\n",
       "      <td>5.000000e+00</td>\n",
       "      <td>1.600000e+01</td>\n",
       "      <td>1.500000e+01</td>\n",
       "    </tr>\n",
       "    <tr>\n",
       "      <th>max</th>\n",
       "      <td>3.421083e+06</td>\n",
       "      <td>2.062090e+05</td>\n",
       "      <td>1.000000e+02</td>\n",
       "      <td>6.000000e+00</td>\n",
       "      <td>2.300000e+01</td>\n",
       "      <td>3.000000e+01</td>\n",
       "    </tr>\n",
       "  </tbody>\n",
       "</table>\n",
       "</div>"
      ],
      "text/plain": [
       "           order_id       user_id  order_number     order_dow  \\\n",
       "count  3.421083e+06  3.421083e+06  3.421083e+06  3.421083e+06   \n",
       "mean   1.710542e+06  1.029782e+05  1.715486e+01  2.776219e+00   \n",
       "std    9.875817e+05  5.953372e+04  1.773316e+01  2.046829e+00   \n",
       "min    1.000000e+00  1.000000e+00  1.000000e+00  0.000000e+00   \n",
       "25%    8.552715e+05  5.139400e+04  5.000000e+00  1.000000e+00   \n",
       "50%    1.710542e+06  1.026890e+05  1.100000e+01  3.000000e+00   \n",
       "75%    2.565812e+06  1.543850e+05  2.300000e+01  5.000000e+00   \n",
       "max    3.421083e+06  2.062090e+05  1.000000e+02  6.000000e+00   \n",
       "\n",
       "       order_hour_of_day  days_since_prior_order  \n",
       "count       3.421083e+06            3.214874e+06  \n",
       "mean        1.345202e+01            1.111484e+01  \n",
       "std         4.226088e+00            9.206737e+00  \n",
       "min         0.000000e+00            0.000000e+00  \n",
       "25%         1.000000e+01            4.000000e+00  \n",
       "50%         1.300000e+01            7.000000e+00  \n",
       "75%         1.600000e+01            1.500000e+01  \n",
       "max         2.300000e+01            3.000000e+01  "
      ]
     },
     "execution_count": 20,
     "metadata": {},
     "output_type": "execute_result"
    }
   ],
   "source": [
    "#Looking for descriptive statistics in 'orders_wrangled.csv' data frame:\n",
    "\n",
    "df_ords.describe()"
   ]
  },
  {
   "cell_type": "markdown",
   "id": "4a6f263c-493f-4245-bed2-b0ccae1c9f18",
   "metadata": {},
   "source": [
    "• The count for days_since_prior_order is approximately 3.21 million, while the other columns have a count of approximately 3.42 million. This indicates that there are missing values in the days_since_prior_order column\n",
    "\n",
    "• Column 'order_number' has a large range with a maximum value of 100, which could be an outlier or represent a small group of very frequent shoppers.\n",
    "\n",
    "\n",
    "\n",
    "\n",
    "\n"
   ]
  },
  {
   "cell_type": "code",
   "execution_count": 26,
   "id": "a063ab72-f449-497d-9d26-653453864557",
   "metadata": {},
   "outputs": [
    {
     "name": "stdout",
     "output_type": "stream",
     "text": [
      "order_id                    int64\n",
      "user_id                     int64\n",
      "eval_set                   object\n",
      "order_number                int64\n",
      "order_dow                   int64\n",
      "order_hour_of_day           int64\n",
      "days_since_prior_order    float64\n",
      "dtype: object\n"
     ]
    }
   ],
   "source": [
    "#Checking for mixed-type data in 'df_ords' dataframe\n",
    "\n",
    "print(df_ords.dtypes)"
   ]
  },
  {
   "cell_type": "markdown",
   "id": "2c71bdbd-5ed5-4089-a6b5-89548717cea1",
   "metadata": {},
   "source": [
    "No mixed-type variables found"
   ]
  },
  {
   "cell_type": "markdown",
   "id": "f3beffa2-64ed-4d02-b387-e307f0d5bce0",
   "metadata": {},
   "source": [
    "• Approximately 6.14% of the data in the days_since_prior_order column is missing. Therefore, I will proceed to replace the missing values with the mean"
   ]
  },
  {
   "cell_type": "code",
   "execution_count": 47,
   "id": "af26b628-0f9d-4648-8157-cbd6a467f561",
   "metadata": {},
   "outputs": [
    {
     "name": "stdout",
     "output_type": "stream",
     "text": [
      "(3421083, 7)\n",
      "order_id                  0\n",
      "user_id                   0\n",
      "eval_set                  0\n",
      "order_number              0\n",
      "order_dow                 0\n",
      "order_hour_of_day         0\n",
      "days_since_prior_order    0\n",
      "dtype: int64\n"
     ]
    }
   ],
   "source": [
    "# Calculating the mean of the 'days_since_prior_order' column, excluding missing values\n",
    "mean_value = df_ords['days_since_prior_order'].mean()\n",
    "\n",
    "# Imputing missing values in 'days_since_prior_order' by creating a new dataframe\n",
    "df_ords_imputed = df_ords.copy()\n",
    "df_ords_imputed['days_since_prior_order'] = df_ords['days_since_prior_order'].fillna(mean_value)\n",
    "\n",
    "# Checking the the new dataframe shape and missing values\n",
    "print(df_ords_imputed.shape)\n",
    "print(df_ords_imputed.isnull().sum())"
   ]
  },
  {
   "cell_type": "code",
   "execution_count": 49,
   "id": "017174f2-6ae0-4b2e-b4a6-77116de03124",
   "metadata": {},
   "outputs": [
    {
     "name": "stdout",
     "output_type": "stream",
     "text": [
      "Number of duplicate records: 0\n"
     ]
    }
   ],
   "source": [
    "# Checking for duplicates\n",
    "duplicate_records = df_ords_imputed.duplicated()\n",
    "print(f\"Number of duplicate records: {duplicate_records.sum()}\")"
   ]
  },
  {
   "cell_type": "markdown",
   "id": "240e6a92-3525-40a1-a0b4-68ab474eab75",
   "metadata": {},
   "source": [
    "• Final DataFrame Check:"
   ]
  },
  {
   "cell_type": "code",
   "execution_count": 52,
   "id": "0b3ce002-fea4-47f1-a0fb-cdcd7c732409",
   "metadata": {},
   "outputs": [
    {
     "name": "stdout",
     "output_type": "stream",
     "text": [
      "<class 'pandas.core.frame.DataFrame'>\n",
      "RangeIndex: 3421083 entries, 0 to 3421082\n",
      "Data columns (total 7 columns):\n",
      " #   Column                  Dtype  \n",
      "---  ------                  -----  \n",
      " 0   order_id                int64  \n",
      " 1   user_id                 int64  \n",
      " 2   eval_set                object \n",
      " 3   order_number            int64  \n",
      " 4   order_dow               int64  \n",
      " 5   order_hour_of_day       int64  \n",
      " 6   days_since_prior_order  float64\n",
      "dtypes: float64(1), int64(5), object(1)\n",
      "memory usage: 182.7+ MB\n",
      "None\n",
      "   order_id  user_id eval_set  order_number  order_dow  order_hour_of_day  \\\n",
      "0   2539329        1    prior             1          2                  8   \n",
      "1   2398795        1    prior             2          3                  7   \n",
      "2    473747        1    prior             3          3                 12   \n",
      "3   2254736        1    prior             4          4                  7   \n",
      "4    431534        1    prior             5          4                 15   \n",
      "\n",
      "   days_since_prior_order  \n",
      "0               11.114836  \n",
      "1               15.000000  \n",
      "2               21.000000  \n",
      "3               29.000000  \n",
      "4               28.000000  \n"
     ]
    }
   ],
   "source": [
    "# Check the dataframe information\n",
    "print(df_ords_imputed.info())\n",
    "\n",
    "# Display the first few rows of the cleaned dataframe\n",
    "print(df_ords_imputed.head())\n"
   ]
  },
  {
   "cell_type": "markdown",
   "id": "33a0666b-9c3e-4f22-ac48-f63822711641",
   "metadata": {},
   "source": [
    "• Changing 'df_ords_imputed' name to then extract it:"
   ]
  },
  {
   "cell_type": "code",
   "execution_count": 57,
   "id": "395a32b1-dd77-4da6-9a21-d634c2edfc3e",
   "metadata": {},
   "outputs": [
    {
     "ename": "NameError",
     "evalue": "name 'orders_checked' is not defined",
     "output_type": "error",
     "traceback": [
      "\u001b[1;31m---------------------------------------------------------------------------\u001b[0m",
      "\u001b[1;31mNameError\u001b[0m                                 Traceback (most recent call last)",
      "Cell \u001b[1;32mIn[57], line 2\u001b[0m\n\u001b[0;32m      1\u001b[0m \u001b[38;5;66;03m#Renaming data frame 'df_ords_imputed'\u001b[39;00m\n\u001b[1;32m----> 2\u001b[0m df_ords_imputed \u001b[38;5;241m=\u001b[39m orders_checked\n\u001b[0;32m      4\u001b[0m path_ords \u001b[38;5;241m=\u001b[39m \u001b[38;5;124mr\u001b[39m\u001b[38;5;124m'\u001b[39m\u001b[38;5;124mC:\u001b[39m\u001b[38;5;124m\\\u001b[39m\u001b[38;5;124mUsers\u001b[39m\u001b[38;5;124m\\\u001b[39m\u001b[38;5;124misaac\u001b[39m\u001b[38;5;124m\\\u001b[39m\u001b[38;5;124mDocuments\u001b[39m\u001b[38;5;124m\\\u001b[39m\u001b[38;5;124mCareerFoundry\u001b[39m\u001b[38;5;124m\\\u001b[39m\u001b[38;5;124m2. Data Inmersion\u001b[39m\u001b[38;5;124m\\\u001b[39m\u001b[38;5;124m4. Python Fundamentals for Data Analysts\u001b[39m\u001b[38;5;124m\\\u001b[39m\u001b[38;5;124m07-2024 Instacart Basket Analysis\u001b[39m\u001b[38;5;124m\\\u001b[39m\u001b[38;5;124m02 Data\u001b[39m\u001b[38;5;124m\\\u001b[39m\u001b[38;5;124mPrepared Data\u001b[39m\u001b[38;5;124m\\\u001b[39m\u001b[38;5;124m4.3_orders_products\u001b[39m\u001b[38;5;124m\\\u001b[39m\u001b[38;5;124morders_checked.csv\u001b[39m\u001b[38;5;124m'\u001b[39m\n\u001b[0;32m      6\u001b[0m \u001b[38;5;66;03m#Exporting it:\u001b[39;00m\n",
      "\u001b[1;31mNameError\u001b[0m: name 'orders_checked' is not defined"
     ]
    }
   ],
   "source": [
    "#Renaming data frame 'df_ords_imputed'\n",
    "df_ords_imputed = \n",
    "\n",
    "path_ords = r'C:\\Users\\isaac\\Documents\\CareerFoundry\\2. Data Inmersion\\4. Python Fundamentals for Data Analysts\\07-2024 Instacart Basket Analysis\\02 Data\\Prepared Data\\4.3_orders_products\\orders_checked.csv'\n",
    "\n",
    "#Exporting it:\n",
    "orders_checked.to_csv(path_ords, index=False)"
   ]
  },
  {
   "cell_type": "code",
   "execution_count": null,
   "id": "7a9adde1-cbd8-49e3-999d-3292362901b0",
   "metadata": {},
   "outputs": [],
   "source": []
  }
 ],
 "metadata": {
  "kernelspec": {
   "display_name": "Python 3 (ipykernel)",
   "language": "python",
   "name": "python3"
  },
  "language_info": {
   "codemirror_mode": {
    "name": "ipython",
    "version": 3
   },
   "file_extension": ".py",
   "mimetype": "text/x-python",
   "name": "python",
   "nbconvert_exporter": "python",
   "pygments_lexer": "ipython3",
   "version": "3.12.4"
  }
 },
 "nbformat": 4,
 "nbformat_minor": 5
}
